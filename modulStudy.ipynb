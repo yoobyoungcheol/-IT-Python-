{
  "nbformat": 4,
  "nbformat_minor": 0,
  "metadata": {
    "colab": {
      "provenance": [],
      "authorship_tag": "ABX9TyPHqKIKr+EdyT1AjqqjqGpM",
      "include_colab_link": true
    },
    "kernelspec": {
      "name": "python3",
      "display_name": "Python 3"
    },
    "language_info": {
      "name": "python"
    }
  },
  "cells": [
    {
      "cell_type": "markdown",
      "metadata": {
        "id": "view-in-github",
        "colab_type": "text"
      },
      "source": [
        "<a href=\"https://colab.research.google.com/github/yoobyoungcheol/-IT-Python-/blob/master/modulStudy.ipynb\" target=\"_parent\"><img src=\"https://colab.research.google.com/assets/colab-badge.svg\" alt=\"Open In Colab\"/></a>"
      ]
    },
    {
      "cell_type": "markdown",
      "source": [
        " mod1.py 파일 내부코드\n",
        "\n",
        "def add(a, b):\n",
        "    return a + b\n",
        "\n",
        "def sub(a, b):\n",
        "    return a-b\n",
        "\n",
        "모듈을 불러 올때는\n",
        "\n",
        "import 모듈_이름\n",
        "\n",
        "from 모튤_이름 import 모듈_함수\n"
      ],
      "metadata": {
        "id": "1gq7u9mdp3PK"
      }
    },
    {
      "cell_type": "code",
      "source": [
        "import mod1           # mod1 파일을 불러온다\n",
        "print(mod1.add(3,4))  # mod1 으로 불러온 함수를 실행하기"
      ],
      "metadata": {
        "colab": {
          "base_uri": "https://localhost:8080/"
        },
        "id": "ldTVZHFEp88a",
        "outputId": "3b220c62-5401-45c8-a5c6-e17c07481195"
      },
      "execution_count": 6,
      "outputs": [
        {
          "output_type": "stream",
          "name": "stdout",
          "text": [
            "7\n"
          ]
        }
      ]
    },
    {
      "cell_type": "code",
      "source": [
        "print(mod1.sub(4,2))    # mod1 으로 불러온 함수를 실행하기"
      ],
      "metadata": {
        "colab": {
          "base_uri": "https://localhost:8080/"
        },
        "id": "ksA6k18xqnVy",
        "outputId": "ff526407-1e54-470c-bf32-a1020bfdf0a1"
      },
      "execution_count": 7,
      "outputs": [
        {
          "output_type": "stream",
          "name": "stdout",
          "text": [
            "2\n"
          ]
        }
      ]
    },
    {
      "cell_type": "code",
      "source": [
        "from mod1 import add     # 모듈에 있는 함수를 직접적으로 불러오기\n",
        "add(3,4)                # 모듈에서 함수를 직접 가져왔기때문에 함수 앞에 모델명을 쓸 필요가 없다."
      ],
      "metadata": {
        "colab": {
          "base_uri": "https://localhost:8080/"
        },
        "id": "Mmd130iTqzjK",
        "outputId": "2719f703-ca9e-4f78-d096-28962e1f228d"
      },
      "execution_count": 8,
      "outputs": [
        {
          "output_type": "execute_result",
          "data": {
            "text/plain": [
              "7"
            ]
          },
          "metadata": {},
          "execution_count": 8
        }
      ]
    },
    {
      "cell_type": "code",
      "source": [
        "from mod1 import add, sub # 한번에 여러가지 함수를 가져올 수 있다sub(5,3)\n",
        "sub(5,3)"
      ],
      "metadata": {
        "colab": {
          "base_uri": "https://localhost:8080/"
        },
        "id": "xolRD9zJuc9K",
        "outputId": "20fd54b8-aac3-4b75-fae1-fd929235b845"
      },
      "execution_count": 10,
      "outputs": [
        {
          "output_type": "execute_result",
          "data": {
            "text/plain": [
              "2"
            ]
          },
          "metadata": {},
          "execution_count": 10
        }
      ]
    },
    {
      "cell_type": "code",
      "source": [
        "from mod1 import *   # *은 모든것을 의미한다\n",
        "print(add(6,2))\n",
        "print(sub(6,2))"
      ],
      "metadata": {
        "colab": {
          "base_uri": "https://localhost:8080/"
        },
        "id": "bjbOPfj_usyC",
        "outputId": "8fdd51ca-fe4a-4036-84bb-bc751c1868fe"
      },
      "execution_count": 12,
      "outputs": [
        {
          "output_type": "stream",
          "name": "stdout",
          "text": [
            "8\n",
            "4\n"
          ]
        }
      ]
    },
    {
      "cell_type": "markdown",
      "source": [
        " mod1.py  의 파일내용\n"
      ],
      "metadata": {
        "id": "l3FBnIy2vLn6"
      }
    },
    {
      "cell_type": "code",
      "source": [
        "def add(a, b):\n",
        "    return a+b\n",
        "\n",
        "def sub(a, b):\n",
        "    return a-b\n",
        "\n",
        "print(add(1, 4))\n",
        "print(sub(4, 2))"
      ],
      "metadata": {
        "id": "2hCUjGjQwCpa"
      },
      "execution_count": null,
      "outputs": []
    },
    {
      "cell_type": "markdown",
      "source": [
        "cmd 결과"
      ],
      "metadata": {
        "id": "F_G-KKOfvPty"
      }
    },
    {
      "cell_type": "code",
      "source": [
        "C:\\Python-exam> python\n",
        ">>> import mod1\n",
        "5\n",
        "2"
      ],
      "metadata": {
        "id": "GbYIgX_XuzhC"
      },
      "execution_count": null,
      "outputs": []
    },
    {
      "cell_type": "markdown",
      "source": [
        "mod1.py의 내용"
      ],
      "metadata": {
        "id": "ttm8vZwJwFhK"
      }
    },
    {
      "cell_type": "code",
      "source": [
        "def add(a, b):\n",
        "    return a+b\n",
        "\n",
        "def sub(a, b):\n",
        "    return a-b\n",
        "\n",
        "if __name__ == \"__main__\":\n",
        "    print(add(1, 4))\n",
        "    print(sub(4, 2))"
      ],
      "metadata": {
        "id": "x0u8tfEfwHpb"
      },
      "execution_count": null,
      "outputs": []
    },
    {
      "cell_type": "markdown",
      "source": [
        "cmd 결과"
      ],
      "metadata": {
        "id": "aO_tHjEqvu1B"
      }
    },
    {
      "cell_type": "code",
      "source": [
        ">>> import mod1\n",
        ">>>"
      ],
      "metadata": {
        "id": "feAI0SpivpNy"
      },
      "execution_count": null,
      "outputs": []
    },
    {
      "cell_type": "markdown",
      "source": [
        "mod2.py의 내용"
      ],
      "metadata": {
        "id": "90i578LewKKS"
      }
    },
    {
      "cell_type": "code",
      "source": [
        "PI = 3.141592\n",
        "\n",
        "class Math:\n",
        "    def solv(self, r):\n",
        "        return PI * (r ** 2)\n",
        "\n",
        "def add(a, b):\n",
        "    return a+b"
      ],
      "metadata": {
        "id": "kPF42ULiwNNb"
      },
      "execution_count": null,
      "outputs": []
    },
    {
      "cell_type": "markdown",
      "source": [
        "cmd결과창"
      ],
      "metadata": {
        "id": "6VD_RgRSwN4Z"
      }
    },
    {
      "cell_type": "code",
      "source": [
        "C:\\Python-exam> python\n",
        ">>> import mod2\n",
        ">>> print(mod2.PI)\n",
        "3.141592\n",
        ">>> a = mod2.Math()\n",
        ">>> print(a.solv(2))\n",
        "12.566368\n",
        ">>> print(mod2.add(mod2.PI, 4.4))\n",
        "7.541592"
      ],
      "metadata": {
        "id": "jbC3lhnYwSY7"
      },
      "execution_count": null,
      "outputs": []
    },
    {
      "cell_type": "markdown",
      "source": [
        "modtest.py 의 내용"
      ],
      "metadata": {
        "id": "S8VbTVv8wivB"
      }
    },
    {
      "cell_type": "code",
      "source": [
        "from mymod import mod2\n",
        "\n",
        "result = mod2.add(3, 4)\n",
        "print(result)"
      ],
      "metadata": {
        "id": "ohq41xVZwbpp"
      },
      "execution_count": null,
      "outputs": []
    },
    {
      "cell_type": "markdown",
      "source": [
        "sys모듈을 활용해 보기\n",
        "\n",
        "sys를 활용한 path확인방법\n",
        "\n",
        "import sys\n",
        "\n",
        "sys.path\n",
        "\n",
        "sys 모듈을 사용하여 cmd 창에서 직접 경로를 잡아주는 방법"
      ],
      "metadata": {
        "id": "J9EG4WJRw8E5"
      }
    },
    {
      "cell_type": "code",
      "source": [
        ">>> import sys\n",
        ">>> sys.path.append(\"C:/Python-exam/mymod\")\n"
      ],
      "metadata": {
        "id": "MUnmVdzKxDdR"
      },
      "execution_count": null,
      "outputs": []
    },
    {
      "cell_type": "code",
      "source": [
        "from mymod import mod2 # 경로를 찾아서 연결시켜주기\n",
        "print(mod2.add(3,4))   # 연결된 모듈에 있는 함수 사용"
      ],
      "metadata": {
        "colab": {
          "base_uri": "https://localhost:8080/"
        },
        "id": "zUNUA2XCxetx",
        "outputId": "82d0b962-c141-44f2-9a87-f90dc3964493"
      },
      "execution_count": 14,
      "outputs": [
        {
          "output_type": "stream",
          "name": "stdout",
          "text": [
            "7\n"
          ]
        }
      ]
    },
    {
      "cell_type": "markdown",
      "source": [
        "cmd에서 PYTHONPATH라는 환경 변수를 사용해보기"
      ],
      "metadata": {
        "id": "PHLIViP0x1Wr"
      }
    },
    {
      "cell_type": "code",
      "source": [
        "C:\\Python-exam>set PYTHONPATH=C:\\doit\\mymod\n",
        "C:\\Python-exam>python\n",
        ">>> import mod2\n",
        ">>> print(mod2.add(3, 4))\n",
        "7"
      ],
      "metadata": {
        "id": "rdo5JpHnxmMi"
      },
      "execution_count": null,
      "outputs": []
    }
  ]
}